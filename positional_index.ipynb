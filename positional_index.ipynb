{
  "nbformat": 4,
  "nbformat_minor": 0,
  "metadata": {
    "colab": {
      "provenance": [],
      "authorship_tag": "ABX9TyOhXgx4fzPiNbKafsYthWJr",
      "include_colab_link": true
    },
    "kernelspec": {
      "name": "python3",
      "display_name": "Python 3"
    },
    "language_info": {
      "name": "python"
    }
  },
  "cells": [
    {
      "cell_type": "markdown",
      "metadata": {
        "id": "view-in-github",
        "colab_type": "text"
      },
      "source": [
        "<a href=\"https://colab.research.google.com/github/pnabende/ahumain-big-data-course-development/blob/main/positional_index.ipynb\" target=\"_parent\"><img src=\"https://colab.research.google.com/assets/colab-badge.svg\" alt=\"Open In Colab\"/></a>"
      ]
    },
    {
      "cell_type": "code",
      "execution_count": null,
      "metadata": {
        "id": "wD8NDWI9mEkr"
      },
      "outputs": [],
      "source": [
        "from collections import defaultdict"
      ]
    },
    {
      "cell_type": "code",
      "source": [
        "# Sample documents\n",
        "\n",
        "documents = [\n",
        "    \"Web mining is useful\",\n",
        "    \"Usage mining applications\",\n",
        "    \"Web structure mining studies the Web hyperlink structures\"\n",
        "]"
      ],
      "metadata": {
        "id": "DWHPYAPPmOuP"
      },
      "execution_count": null,
      "outputs": []
    },
    {
      "cell_type": "code",
      "source": [
        "# Define functions for tokenization and building positional index\n",
        "\n",
        "def tokenize(text):\n",
        "  return text.lower().split()\n",
        "\n",
        "def build_positional_index(docs):\n",
        "  index = defaultdict(lambda:defaultdict(list))\n",
        "  for doc_id, doc in enumerate(docs):\n",
        "    tokens = tokenize(doc)\n",
        "    for position, token in enumerate(tokens):\n",
        "      index[token][doc_id].append(position)\n",
        "  return index"
      ],
      "metadata": {
        "id": "I13k2aTGmbFG"
      },
      "execution_count": null,
      "outputs": []
    },
    {
      "cell_type": "code",
      "source": [
        "# Build the positional index\n",
        "positional_index = build_positional_index(documents)\n"
      ],
      "metadata": {
        "id": "n3KH9DbdnCt_"
      },
      "execution_count": null,
      "outputs": []
    },
    {
      "cell_type": "code",
      "source": [
        "# Display the positional index\n",
        "\n",
        "def print_positional_index(index):\n",
        "  for term, postings in index.items():\n",
        "    print(f\"Term: {term}\")\n",
        "    for doc_id, positions in postings.items():\n",
        "      print(f\"  Doc ID: {doc_id}, Positions: {positions}\")\n",
        "\n",
        "print_positional_index(positional_index)"
      ],
      "metadata": {
        "colab": {
          "base_uri": "https://localhost:8080/"
        },
        "id": "_Ik_b2EHnMK3",
        "outputId": "4708cf71-bbec-4bf4-f829-07e3a1f222ba"
      },
      "execution_count": null,
      "outputs": [
        {
          "output_type": "stream",
          "name": "stdout",
          "text": [
            "Term: web\n",
            "  Doc ID: 0, Positions: [0]\n",
            "  Doc ID: 2, Positions: [0, 5]\n",
            "Term: mining\n",
            "  Doc ID: 0, Positions: [1]\n",
            "  Doc ID: 1, Positions: [1]\n",
            "  Doc ID: 2, Positions: [2]\n",
            "Term: is\n",
            "  Doc ID: 0, Positions: [2]\n",
            "Term: useful\n",
            "  Doc ID: 0, Positions: [3]\n",
            "Term: usage\n",
            "  Doc ID: 1, Positions: [0]\n",
            "Term: applications\n",
            "  Doc ID: 1, Positions: [2]\n",
            "Term: structure\n",
            "  Doc ID: 2, Positions: [1]\n",
            "Term: studies\n",
            "  Doc ID: 2, Positions: [3]\n",
            "Term: the\n",
            "  Doc ID: 2, Positions: [4]\n",
            "Term: hyperlink\n",
            "  Doc ID: 2, Positions: [6]\n",
            "Term: structures\n",
            "  Doc ID: 2, Positions: [7]\n"
          ]
        }
      ]
    },
    {
      "cell_type": "code",
      "source": [
        "# Function to perform phrase search\n",
        "def phrase_search(phrase, index, docs):\n",
        "  phrase_tokens = tokenize(phrase)\n",
        "  result_docs = []\n",
        "\n",
        "  if phrase_tokens[0] in index:\n",
        "    initial_postings = index[phrase_tokens[0]]\n",
        "    for doc_id, initial_positions in initial_postings.items():\n",
        "      for pos in initial_positions:\n",
        "        match = True\n",
        "        for offset, token in enumerate(phrase_tokens[1:], start=1):\n",
        "          if token not in index or doc_id not in index[token] or pos + offset not in index[token][doc_id]:\n",
        "            match = False\n",
        "            break\n",
        "        if match:\n",
        "          result_docs.append(doc_id)\n",
        "          break\n",
        "  return result_docs"
      ],
      "metadata": {
        "id": "QA0DpYaUnfJL"
      },
      "execution_count": null,
      "outputs": []
    },
    {
      "cell_type": "code",
      "source": [
        "# Example phrase search\n",
        "phrase = \"web mining\"\n",
        "result_docs = phrase_search(phrase, positional_index, documents)\n",
        "print(f\"Phrase '{phrase}' found in documents: {result_docs}\")\n",
        "\n",
        "phrase = \"usage mining\"\n",
        "result_docs = phrase_search(phrase, positional_index, documents)\n",
        "print(f\"Phrase '{phrase}' found in documents: {result_docs}\")\n",
        "\n",
        "phrase = \"web structure\"\n",
        "result_docs = phrase_search(phrase, positional_index, documents)\n",
        "print(f\"Phrase '{phrase}' found in documents: {result_docs}\")"
      ],
      "metadata": {
        "colab": {
          "base_uri": "https://localhost:8080/"
        },
        "id": "fpZWM2ntojsV",
        "outputId": "8b777c8a-634e-4e44-f1ef-6da341042fb2"
      },
      "execution_count": null,
      "outputs": [
        {
          "output_type": "stream",
          "name": "stdout",
          "text": [
            "Phrase 'web mining' found in documents: [0]\n",
            "Phrase 'usage mining' found in documents: [1]\n",
            "Phrase 'web structure' found in documents: [2]\n"
          ]
        }
      ]
    }
  ]
}