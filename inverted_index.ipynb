{
  "nbformat": 4,
  "nbformat_minor": 0,
  "metadata": {
    "colab": {
      "provenance": [],
      "authorship_tag": "ABX9TyORhxu9IQwvWj+JCoPR8ZgU",
      "include_colab_link": true
    },
    "kernelspec": {
      "name": "python3",
      "display_name": "Python 3"
    },
    "language_info": {
      "name": "python"
    }
  },
  "cells": [
    {
      "cell_type": "markdown",
      "metadata": {
        "id": "view-in-github",
        "colab_type": "text"
      },
      "source": [
        "<a href=\"https://colab.research.google.com/github/pnabende/ahumain-big-data-course-development/blob/main/inverted_index.ipynb\" target=\"_parent\"><img src=\"https://colab.research.google.com/assets/colab-badge.svg\" alt=\"Open In Colab\"/></a>"
      ]
    },
    {
      "cell_type": "code",
      "execution_count": null,
      "metadata": {
        "id": "5ABkhDUT4ZaF"
      },
      "outputs": [],
      "source": [
        "# Define the documents\n",
        "document1 = \"Web mining is useful\"\n",
        "document2 = \"Usage mining applications\"\n",
        "document3 = \"Web structure mining studies the Web hyperlink structures\""
      ]
    },
    {
      "cell_type": "code",
      "source": [
        "# Step 1: Tokenize the documents\n",
        "# Convert each document to lowercase and split it into words\n",
        "tokens1 = document1.lower().split()\n",
        "tokens2 = document2.lower().split()\n",
        "tokens3 = document3.lower().split()\n",
        "\n",
        "# Combine the tokens into a list of unique terms\n",
        "terms = list(set(tokens1 + tokens2))"
      ],
      "metadata": {
        "id": "VkiychdL5VGm"
      },
      "execution_count": null,
      "outputs": []
    },
    {
      "cell_type": "code",
      "source": [
        "# Step 2: Build the inverted index\n",
        "\n",
        "# Create an empty dictionary to store the inverted index\n",
        "inverted_index = {}\n",
        "\n",
        "# For each term, find the documents that contain it\n",
        "\n",
        "for term in terms:\n",
        "  documents = []\n",
        "  if term in tokens1:\n",
        "    documents.append(\"Document 1\")\n",
        "  if term in tokens2:\n",
        "    documents.append(\"Document 2\")\n",
        "  if term in tokens3:\n",
        "    documents.append(\"Document 3\")\n",
        "  inverted_index[term] = documents"
      ],
      "metadata": {
        "id": "YMeyZ6wp50R_"
      },
      "execution_count": null,
      "outputs": []
    },
    {
      "cell_type": "code",
      "source": [
        "# Step 3: Print the inverted index\n",
        "\n",
        "for term, documents in inverted_index.items():\n",
        "  print(term,\"->\", \", \".join(documents))"
      ],
      "metadata": {
        "colab": {
          "base_uri": "https://localhost:8080/"
        },
        "id": "3UFwly5T6dfU",
        "outputId": "746e72e4-a4e5-4131-b890-b1cdac0a5e82"
      },
      "execution_count": null,
      "outputs": [
        {
          "output_type": "stream",
          "name": "stdout",
          "text": [
            "applications -> Document 2\n",
            "web -> Document 1, Document 3\n",
            "mining -> Document 1, Document 2, Document 3\n",
            "useful -> Document 1\n",
            "is -> Document 1\n",
            "usage -> Document 2\n"
          ]
        }
      ]
    }
  ]
}